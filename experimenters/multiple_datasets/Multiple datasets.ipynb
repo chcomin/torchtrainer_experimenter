{
 "cells": [
  {
   "cell_type": "code",
   "execution_count": null,
   "metadata": {},
   "outputs": [],
   "source": [
    "from train import MultiTrainer\n",
    "\n",
    "# The parameters below reproduce those used in the lwnet paper\n",
    "params = {\n",
    "    \"experiment_name\": \"example_experiment\",\n",
    "    \"run_name\": \"example_run\",\n",
    "    \"validate_every\": 1,\n",
    "    \"save_val_imgs\": \"\",\n",
    "    \"val_img_indices\": \"0 1 2 3\",\n",
    "    \"dataset_path\": \"/home/chcomin/Dropbox/shared_datasets\",   \n",
    "    \"dataset_class\": \"multiple\",\n",
    "    \"model_class\": \"unet_lw\",\n",
    "    \"num_epochs\": 10,\n",
    "    \"validation_metric\": \"Val loss VessMAP\",\n",
    "    #\"maximize_validation_metric\": \"\",\n",
    "    \"bs_train\": 4,\n",
    "    \"weight_decay\": 0.0,\n",
    "    \"optimizer\": \"adam\",\n",
    "    \"num_workers\": 5,\n",
    "}\n",
    "\n",
    "runner = MultiTrainer(params).fit()"
   ]
  }
 ],
 "metadata": {
  "kernelspec": {
   "display_name": "pytorch",
   "language": "python",
   "name": "python3"
  },
  "language_info": {
   "codemirror_mode": {
    "name": "ipython",
    "version": 3
   },
   "file_extension": ".py",
   "mimetype": "text/x-python",
   "name": "python",
   "nbconvert_exporter": "python",
   "pygments_lexer": "ipython3",
   "version": "3.12.6"
  }
 },
 "nbformat": 4,
 "nbformat_minor": 2
}
