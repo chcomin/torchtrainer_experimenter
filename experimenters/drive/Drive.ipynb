{
 "cells": [
  {
   "cell_type": "code",
   "execution_count": null,
   "metadata": {},
   "outputs": [],
   "source": [
    "from trainer import VesselTrainer\n",
    "\n",
    "params = {\n",
    "    'validate-every': 50,\n",
    "    'save-val-imgs': '',\n",
    "    'val-img-indices': '0 1 2 3',\n",
    "    'dataset-path': '/home/chcomin/Dropbox/shared_datasets/DRIVE',\n",
    "    'dataset-class': 'drive',\n",
    "    'split-strategy': 'file',\n",
    "    'resize-size': '512 512',\n",
    "    'ignore-class-weights': '',\n",
    "    'model-name': 'unet_lw',\n",
    "    'num-epochs': 1000,\n",
    "    'validation-metric': 'Dice',\n",
    "    'maximize-validation-metric': '',\n",
    "    'bs-train': 4,\n",
    "    'weight-decay': 0.0,\n",
    "    'optimizer': 'adam',\n",
    "    'num-workers':5,\n",
    "}\n",
    "\n",
    "runner = VesselTrainer(params).fit()"
   ]
  },
  {
   "cell_type": "code",
   "execution_count": 2,
   "metadata": {},
   "outputs": [
    {
     "data": {
      "text/plain": [
       "np.float64(0.8053531646728516)"
      ]
     },
     "execution_count": 2,
     "metadata": {},
     "output_type": "execute_result"
    }
   ],
   "source": [
    "import pandas as pd\n",
    "\n",
    "df = pd.read_csv('experiments/no_name_experiment/no_name_run/log.csv')\n",
    "df['Dice'].max()"
   ]
  }
 ],
 "metadata": {
  "kernelspec": {
   "display_name": "pytorch",
   "language": "python",
   "name": "python3"
  },
  "language_info": {
   "codemirror_mode": {
    "name": "ipython",
    "version": 3
   },
   "file_extension": ".py",
   "mimetype": "text/x-python",
   "name": "python",
   "nbconvert_exporter": "python",
   "pygments_lexer": "ipython3",
   "version": "3.12.6"
  }
 },
 "nbformat": 4,
 "nbformat_minor": 2
}
