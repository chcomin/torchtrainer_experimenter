{
 "cells": [
  {
   "cell_type": "code",
   "execution_count": null,
   "metadata": {},
   "outputs": [],
   "source": [
    "from train import VesselTrainer\n",
    "\n",
    "# The parameters below reproduce those used in the lwnet paper\n",
    "params = {\n",
    "    'experiment_name': 'example_experiment',\n",
    "    'run_name': 'example_run',\n",
    "    'validate_every': 50,\n",
    "    'save_val_imgs': '',\n",
    "    'val_img_indices': '0 1 2 3',\n",
    "    'dataset_path': '/home/chcomin/Dropbox/shared_datasets/DRIVE',\n",
    "    'dataset_class': 'drive',\n",
    "    'split_strategy': 'file',\n",
    "    'resize_size': '512 512',\n",
    "    'dataset_params': 'use_ignore_index=False',\n",
    "    'ignore_class_weights': '',\n",
    "    'model_class': 'unet_lw',\n",
    "    'num_epochs': 1000,\n",
    "    'validation_metric': 'Dice',\n",
    "    'maximize_validation_metric': '',\n",
    "    'bs_train': 4,\n",
    "    'weight_decay': 0.0,\n",
    "    'optimizer': 'adam',\n",
    "    'num_workers':5,\n",
    "}\n",
    "\n",
    "runner = VesselTrainer(params).fit()"
   ]
  },
  {
   "cell_type": "code",
   "execution_count": null,
   "metadata": {},
   "outputs": [],
   "source": [
    "from torchtrainer.test import test\n",
    "\n",
    "# The parameters below reproduce those used in the lwnet paper\n",
    "params = {\n",
    "    'run_path': 'experiments/example_experiment/example_run',\n",
    "    'dataset_path': '/home/chcomin/Dropbox/shared_datasets/DRIVE',\n",
    "    'dataset_class': 'drive',\n",
    "    'resize_size': '512 512',\n",
    "    'model_class': 'unet_lw',\n",
    "    'threshold': -1,\n",
    "    'tta_type': 'probs',\n",
    "}\n",
    "\n",
    "ds_test, metrics = test(params)"
   ]
  }
 ],
 "metadata": {
  "kernelspec": {
   "display_name": "pytorch",
   "language": "python",
   "name": "python3"
  },
  "language_info": {
   "codemirror_mode": {
    "name": "ipython",
    "version": 3
   },
   "file_extension": ".py",
   "mimetype": "text/x-python",
   "name": "python",
   "nbconvert_exporter": "python",
   "pygments_lexer": "ipython3",
   "version": "3.12.6"
  }
 },
 "nbformat": 4,
 "nbformat_minor": 2
}
