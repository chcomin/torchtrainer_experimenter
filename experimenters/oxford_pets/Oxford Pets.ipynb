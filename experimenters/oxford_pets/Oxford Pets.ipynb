{
 "cells": [
  {
   "cell_type": "code",
   "execution_count": null,
   "metadata": {},
   "outputs": [],
   "source": [
    "from train import OxfordTrainer\n",
    "\n",
    "params = {\n",
    "    'experiment_name': 'example_experiment',\n",
    "    'run_name': '_example_run',\n",
    "    'dataset_path': '/home/chcomin/Dropbox/shared_datasets/oxford_pets',\n",
    "    'dataset_class': 'oxford_pets',\n",
    "    'model_class': 'simple_encoder_decoder',\n",
    "    'weights_strategy': 'encoder',\n",
    "    'num_epochs': 3,\n",
    "    'num_workers':5,\n",
    "    'use_amp':'',\n",
    "}\n",
    "\n",
    "runner = OxfordTrainer(params).fit()"
   ]
  }
 ],
 "metadata": {
  "kernelspec": {
   "display_name": "pytorch",
   "language": "python",
   "name": "python3"
  },
  "language_info": {
   "codemirror_mode": {
    "name": "ipython",
    "version": 3
   },
   "file_extension": ".py",
   "mimetype": "text/x-python",
   "name": "python",
   "nbconvert_exporter": "python",
   "pygments_lexer": "ipython3",
   "version": "3.12.6"
  }
 },
 "nbformat": 4,
 "nbformat_minor": 2
}
