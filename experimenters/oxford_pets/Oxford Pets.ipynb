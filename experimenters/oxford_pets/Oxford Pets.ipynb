{
 "cells": [
  {
   "cell_type": "code",
   "execution_count": null,
   "metadata": {},
   "outputs": [],
   "source": [
    "from trainer import OxfordTrainer\n",
    "\n",
    "params = {\n",
    "    'dataset-path': '/home/chcomin/Dropbox/shared_datasets/oxford_pets',\n",
    "    'dataset-class': 'oxford_pets',\n",
    "    'model-name': 'test_model',\n",
    "    'validation-metric': 'Dice',\n",
    "    'patience': 3,\n",
    "    'maximize-validation-metric': '',\n",
    "    'num-epochs': 10,\n",
    "    #'model-name': 'encoder_decoder',\n",
    "    #'weights-strategy': 'encoder',\n",
    "    #'model-params': 'decoder_channels=64',\n",
    "    'num-workers':5,\n",
    "    'use-amp':'',\n",
    "}\n",
    "\n",
    "runner = OxfordTrainer(params).fit()"
   ]
  },
  {
   "cell_type": "code",
   "execution_count": null,
   "metadata": {},
   "outputs": [],
   "source": [
    "from torchtrainer.util.train_util import dict_to_argv\n",
    "\n",
    "' '.join(dict_to_argv(params))"
   ]
  }
 ],
 "metadata": {
  "kernelspec": {
   "display_name": "pytorch",
   "language": "python",
   "name": "python3"
  },
  "language_info": {
   "codemirror_mode": {
    "name": "ipython",
    "version": 3
   },
   "file_extension": ".py",
   "mimetype": "text/x-python",
   "name": "python",
   "nbconvert_exporter": "python",
   "pygments_lexer": "ipython3",
   "version": "3.12.6"
  }
 },
 "nbformat": 4,
 "nbformat_minor": 2
}
